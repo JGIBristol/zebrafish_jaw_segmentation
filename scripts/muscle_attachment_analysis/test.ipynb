{
 "cells": [
  {
   "cell_type": "markdown",
   "id": "d8d7705e",
   "metadata": {},
   "source": [
    "Just trying stuff out\n",
    "===="
   ]
  },
  {
   "cell_type": "code",
   "execution_count": null,
   "id": "e02d5118",
   "metadata": {},
   "outputs": [],
   "source": [
    "\"\"\"\n",
    "Roughly find the muscle attachment locations\n",
    "\"\"\""
   ]
  }
 ],
 "metadata": {
  "kernelspec": {
   "display_name": "fishjaw (3.11.10)",
   "language": "python",
   "name": "python3"
  },
  "language_info": {
   "codemirror_mode": {
    "name": "ipython",
    "version": 3
   },
   "file_extension": ".py",
   "mimetype": "text/x-python",
   "name": "python",
   "nbconvert_exporter": "python",
   "pygments_lexer": "ipython3",
   "version": "3.11.10"
  }
 },
 "nbformat": 4,
 "nbformat_minor": 5
}
