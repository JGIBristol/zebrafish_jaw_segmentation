{
 "cells": [
  {
   "cell_type": "markdown",
   "id": "d8d7705e",
   "metadata": {},
   "source": [
    "Just trying stuff out\n",
    "===="
   ]
  },
  {
   "cell_type": "code",
   "execution_count": null,
   "id": "e02d5118",
   "metadata": {},
   "outputs": [],
   "source": [
    "\"\"\"\n",
    "Read in some WT jaws\n",
    "\"\"\"\n",
    "\n",
    "import tifffile\n",
    "from tqdm.notebook import tqdm\n",
    "\n",
    "from fishjaw.inference import read\n",
    "from fishjaw.util import files\n",
    "\n",
    "output_dir = files.script_out_dir() / \"jaw_segmentations\"\n",
    "\n",
    "img_dir = output_dir / \"imgs\"\n",
    "mask_dir = output_dir / \"masks\"\n",
    "\n",
    "metadata_df = read.mastersheet()\n",
    "\n",
    "wt_mdata_df = metadata_df[metadata_df[\"name\"].str.contains(\"wt\")]\n",
    "\n",
    "imgs = []\n",
    "masks = []\n",
    "\n",
    "for n in tqdm(wt_mdata_df.index):\n",
    "    try:\n",
    "        new_img = tifffile.imread(img_dir / f\"ak_{n}.tif\")\n",
    "        new_mask = tifffile.imread(mask_dir / f\"ak_{n}.tif\")\n",
    "    except FileNotFoundError:\n",
    "        print(f\"{n} doesn't exist\")\n",
    "\n",
    "    imgs.append(new_img)\n",
    "    masks.append(new_mask)"
   ]
  },
  {
   "cell_type": "code",
   "execution_count": null,
   "id": "24809ad9",
   "metadata": {},
   "outputs": [],
   "source": [
    "import numpy as np\n",
    "import matplotlib.pyplot as plt\n",
    "\n",
    "# hacky\n",
    "from scripts.pipeline.plot_3d import _calculate_point_size\n",
    "\n",
    "fig = plt.figure(figsize=(16, 6))\n",
    "\n",
    "n = 6\n",
    "axes = [fig.add_subplot(1, n, i + 1, projection=\"3d\") for i in range(n)]\n",
    "\n",
    "plot_kw = {\n",
    "    \"marker\": \"s\",\n",
    "    \"cmap\": \"inferno\",\n",
    "    \"vmin\": 0,\n",
    "    \"vmax\": 2**16,\n",
    "    \"s\": _calculate_point_size(axes[0], imgs[0].shape),\n",
    "}\n",
    "\n",
    "for img, mask, axis in zip(imgs, masks, axes, strict=False):\n",
    "    co_ords = np.argwhere(mask)\n",
    "    greyscale_vals = img[co_ords[:, 0], co_ords[:, 1], co_ords[:, 2]]\n",
    "\n",
    "    axis.scatter(\n",
    "        co_ords[:, 0], co_ords[:, 1], co_ords[:, 2], c=greyscale_vals, **plot_kw\n",
    "    )\n",
    "\n",
    "    axis.view_init(elev=45, azim=-90, roll=-140)\n",
    "    axis.set_axis_off()"
   ]
  }
 ],
 "metadata": {
  "kernelspec": {
   "display_name": "fishjaw (3.11.10)",
   "language": "python",
   "name": "python3"
  },
  "language_info": {
   "codemirror_mode": {
    "name": "ipython",
    "version": 3
   },
   "file_extension": ".py",
   "mimetype": "text/x-python",
   "name": "python",
   "nbconvert_exporter": "python",
   "pygments_lexer": "ipython3",
   "version": "3.11.10"
  }
 },
 "nbformat": 4,
 "nbformat_minor": 5
}
