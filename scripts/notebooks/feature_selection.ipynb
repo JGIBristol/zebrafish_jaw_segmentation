{
 "cells": [
  {
   "cell_type": "code",
   "execution_count": null,
   "id": "ded06d6e",
   "metadata": {},
   "outputs": [],
   "source": [
    "from fishjaw.util import files\n",
    "\n",
    "in_dir = files.script_out_dir() / \"jaw_segmentations\"\n",
    "img_in_dir = in_dir / \"imgs\"\n",
    "mask_in_dir = in_dir / \"masks\"\n",
    "\n",
    "img_paths = sorted(list(img_in_dir.glob(\"*.tif\")))\n",
    "mask_paths = sorted(list(mask_in_dir.glob(\"*.tif\")))"
   ]
  },
  {
   "cell_type": "code",
   "execution_count": null,
   "id": "635d1ed3",
   "metadata": {},
   "outputs": [],
   "source": [
    "%%capture\n",
    "from fishjaw.inference import read\n",
    "\n",
    "# Exclude the contrast enhanced and bad segmentations\n",
    "exclude = [\n",
    "    read.is_excluded(\n",
    "        read.fish_number(f), exclude_train_data=False, exclude_unknown_age=False\n",
    "    )\n",
    "    for f in img_paths\n",
    "]\n",
    "\n",
    "mask_paths = [m for m, e in zip(mask_paths, exclude) if not e]\n",
    "img_paths = [i for i, e in zip(img_paths, exclude) if not e]"
   ]
  },
  {
   "cell_type": "code",
   "execution_count": null,
   "id": "011faa42",
   "metadata": {},
   "outputs": [],
   "source": [
    "# Read in the masks\n",
    "import tifffile\n",
    "from tqdm.notebook import tqdm\n",
    "\n",
    "masks = [tifffile.imread(f) for f in tqdm(mask_paths)]"
   ]
  },
  {
   "cell_type": "code",
   "execution_count": null,
   "id": "e3111092",
   "metadata": {},
   "outputs": [],
   "source": [
    "# Read in the greyscale\n",
    "imgs = [tifffile.imread(f) for f in tqdm(img_paths)]"
   ]
  },
  {
   "cell_type": "code",
   "execution_count": null,
   "id": "f94eb4af",
   "metadata": {},
   "outputs": [],
   "source": [
    "# Get the metadata\n",
    "\n",
    "metadata = [read.metadata(read.fish_number(f)) for f in img_paths]"
   ]
  },
  {
   "cell_type": "code",
   "execution_count": null,
   "id": "c7a7ac41",
   "metadata": {},
   "outputs": [],
   "source": [
    "from radiomics import featureextractor\n",
    "import SimpleITK as sitk\n",
    "import pandas as pd\n",
    "import numpy as np\n",
    "\n",
    "params_file = \"radiomics_config.yaml\"\n",
    "extractor = featureextractor.RadiomicsFeatureExtractor(params_file)\n",
    "\n",
    "cases = [\n",
    "    (img_array, mask_array, m)\n",
    "    for (img_array, mask_array, m) in zip(imgs, masks, metadata)\n",
    "]\n",
    "\n",
    "features_list = []\n",
    "for img_array, mask_array, mdata in tqdm(cases):\n",
    "    # Convert numpy arrays to SimpleITK images\n",
    "    img = sitk.GetImageFromArray(img_array)\n",
    "    mask = sitk.GetImageFromArray(mask_array.astype(np.uint8))\n",
    "\n",
    "    img.SetSpacing(mdata.voxel_size)\n",
    "    mask.SetSpacing(mdata.voxel_size)\n",
    "\n",
    "    # Extract features\n",
    "    result = extractor.execute(img, mask)\n",
    "\n",
    "    # Keep only numeric features\n",
    "    result_clean = {\n",
    "        k: v for k, v in result.items() if isinstance(v, (int, float, np.ndarray))\n",
    "    }\n",
    "    result_clean[\"ID\"] = mdata.n\n",
    "\n",
    "    features_list.append(result_clean)"
   ]
  },
  {
   "cell_type": "code",
   "execution_count": null,
   "id": "371aa467",
   "metadata": {},
   "outputs": [],
   "source": [
    "features_df = pd.DataFrame(features_list).set_index(\"ID\")\n",
    "print(features_df.shape)\n",
    "features_df.head()"
   ]
  },
  {
   "cell_type": "code",
   "execution_count": null,
   "id": "ac455e89",
   "metadata": {},
   "outputs": [],
   "source": [
    "features_df.to_csv(\"features.csv\")"
   ]
  },
  {
   "cell_type": "markdown",
   "id": "2f6e6e08",
   "metadata": {},
   "source": [
    "# If reading from disk, start here..."
   ]
  },
  {
   "cell_type": "code",
   "execution_count": null,
   "id": "06fcd37b",
   "metadata": {},
   "outputs": [],
   "source": [
    "import pandas as pd\n",
    "features_df = pd.read_csv(\"features.csv\", index_col=0)\n",
    "\n",
    "features_df.head()"
   ]
  },
  {
   "cell_type": "code",
   "execution_count": null,
   "id": "04c6fea6",
   "metadata": {},
   "outputs": [],
   "source": [
    "\"\"\"\n",
    "Add a column describing the mutation status (wt/het/hom/mosaic)\n",
    "\"\"\"\n",
    "from fishjaw.inference import feature_selection\n",
    "\n",
    "features_df = feature_selection.add_metadata_cols(features_df)\n",
    "features_df.head()"
   ]
  },
  {
   "cell_type": "code",
   "execution_count": null,
   "id": "98d00f11",
   "metadata": {},
   "outputs": [],
   "source": [
    "\"\"\"\n",
    "Remove features with zero variance\n",
    "\"\"\"\n",
    "\n",
    "null_variance_cols = features_df[\"Features\"].columns[features_df[\"Features\"].var() == 0]\n",
    "features_df.drop(columns=null_variance_cols, inplace=True, level=1)\n",
    "\n",
    "print(f\"Dropped:\\n\\t\", \", \".join(null_variance_cols))\n",
    "features_df.head()"
   ]
  },
  {
   "cell_type": "code",
   "execution_count": null,
   "id": "bc727d66",
   "metadata": {},
   "outputs": [],
   "source": [
    "\"\"\"\n",
    "Plot correlations\n",
    "\"\"\"\n",
    "\n",
    "import seaborn as sns\n",
    "\n",
    "corr = features_df[\"Features\"].corr()\n",
    "sns.heatmap(corr, vmin=-1, vmax=1, cmap=\"seismic\")"
   ]
  },
  {
   "cell_type": "code",
   "execution_count": null,
   "id": "13d6091e",
   "metadata": {},
   "outputs": [],
   "source": [
    "import numpy as np\n",
    "import matplotlib.pyplot as plt\n",
    "\n",
    "c = np.abs(corr.to_numpy().flat)\n",
    "c[c == 1.0] = np.nan\n",
    "\n",
    "fig, axis = plt.subplots()\n",
    "axis.hist(c, bins=100)\n",
    "axis.set_title(r\"$\\left|\\mathrm{Correlations}\\right|$\")"
   ]
  },
  {
   "cell_type": "code",
   "execution_count": null,
   "id": "994c95d5",
   "metadata": {},
   "outputs": [],
   "source": [
    "\"\"\"\n",
    "Drop highly correlated features\n",
    "\"\"\"\n",
    "\n",
    "from typing import Iterable, Tuple, List, Optional\n",
    "\n",
    "\n",
    "def drop_correlated_features(\n",
    "    df: pd.DataFrame,\n",
    "    threshold: float = 0.8,\n",
    "    protected: Optional[Iterable[str]] = None,\n",
    "    prefer: str = \"lower_variance\",  # or \"higher_variance\" or \"mean_corr\"\n",
    ") -> Tuple[List[str], List[str]]:\n",
    "    \"\"\"\n",
    "    Greedily drop a minimal-ish set of columns so that all remaining\n",
    "    pairwise absolute correlations are <= threshold.\n",
    "\n",
    "    - protected: columns never to drop (will raise if impossible).\n",
    "    - prefer: tie-breaker when choosing what to drop among highly connected nodes.\n",
    "    \"\"\"\n",
    "    if not 0 <= threshold <= 1:\n",
    "        raise ValueError(\"threshold must be in [0, 1]\")\n",
    "\n",
    "    prot = set(protected or [])\n",
    "\n",
    "    # Absolute correlation matrix\n",
    "    corr = df.corr().abs()\n",
    "    # Remove self-correlation to simplify logic\n",
    "    np.fill_diagonal(corr.values, 0.0)\n",
    "    # Replace NaNs with 0 (e.g., constant columns). Ideally drop NaNs beforehand.\n",
    "    corr = corr.fillna(0.0)\n",
    "\n",
    "    to_drop: List[str] = []\n",
    "    remaining = corr.index.tolist()\n",
    "\n",
    "    while True:\n",
    "        # Edges above threshold\n",
    "        mask = corr > threshold\n",
    "        if not mask.values.any():\n",
    "            break\n",
    "\n",
    "        # Degree = number of correlations above threshold\n",
    "        deg = mask.sum(axis=1)\n",
    "\n",
    "        # Candidate nodes with max degree\n",
    "        max_deg = deg.max()\n",
    "        cand = deg[deg == max_deg].index.tolist()\n",
    "\n",
    "        # Apply tie-breaker\n",
    "        if prefer == \"lower_variance\":\n",
    "            var = df[cand].var(numeric_only=True)\n",
    "            pick = var.idxmin()\n",
    "        elif prefer == \"higher_variance\":\n",
    "            var = df[cand].var(numeric_only=True)\n",
    "            pick = var.idxmax()\n",
    "        elif prefer == \"mean_corr\":\n",
    "            mc = corr.loc[cand].mean(axis=1)\n",
    "            pick = mc.idxmax()\n",
    "        else:\n",
    "            pick = cand[0]  # deterministic order if possible\n",
    "\n",
    "        if pick in prot:\n",
    "            # If protected is involved in edges, try dropping the most offending non-protected neighbor\n",
    "            # Choose neighbor with largest correlation to the protected node\n",
    "            neighbors = corr.columns[mask.loc[pick]]\n",
    "            neighbors = [n for n in neighbors if n not in prot]\n",
    "            if not neighbors:\n",
    "                raise RuntimeError(\n",
    "                    f\"Cannot satisfy threshold={threshold} without dropping protected feature '{pick}'\"\n",
    "                )\n",
    "            # Choose neighbor with highest correlation to the protected pick\n",
    "            pick = corr.loc[pick, neighbors].idxmax()\n",
    "\n",
    "        # Drop the picked column/row from the working correlation matrix\n",
    "        to_drop.append(pick)\n",
    "        corr = corr.drop(index=pick, columns=pick)\n",
    "        remaining.remove(pick)\n",
    "\n",
    "    return remaining, to_drop"
   ]
  },
  {
   "cell_type": "code",
   "execution_count": null,
   "id": "787cd373",
   "metadata": {},
   "outputs": [],
   "source": [
    "kept, dropped = drop_correlated_features(features_df[\"Features\"], threshold=0.8)\n",
    "# Keep only 'kept'\n",
    "features_df.drop(columns=dropped, level=1, inplace=True)\n",
    "print(f\"Dropped {len(dropped)} cols:\\n\\t\", \", \".join(dropped))\n",
    "\n",
    "features_df.head()"
   ]
  },
  {
   "cell_type": "code",
   "execution_count": null,
   "id": "333a6cc3",
   "metadata": {},
   "outputs": [],
   "source": [
    "\"\"\"\n",
    "Z-normalise the remaining features\n",
    "\"\"\""
   ]
  },
  {
   "cell_type": "code",
   "execution_count": null,
   "id": "b40303ad",
   "metadata": {},
   "outputs": [],
   "source": [
    "\"\"\"\n",
    "Show variance of the remaining features\n",
    "\"\"\"\n"
   ]
  },
  {
   "cell_type": "code",
   "execution_count": null,
   "id": "ff0c7b74",
   "metadata": {},
   "outputs": [],
   "source": [
    "import seaborn as sns\n",
    "sns.pairplot(features_df)"
   ]
  },
  {
   "cell_type": "code",
   "execution_count": null,
   "id": "c711f2ba",
   "metadata": {},
   "outputs": [],
   "source": [
    "\"\"\"\n",
    "PCA and biplot to get an idea of what good descriptors might be\n",
    "\"\"\""
   ]
  }
 ],
 "metadata": {
  "kernelspec": {
   "display_name": "fishjaw (3.9.22)",
   "language": "python",
   "name": "python3"
  },
  "language_info": {
   "codemirror_mode": {
    "name": "ipython",
    "version": 3
   },
   "file_extension": ".py",
   "mimetype": "text/x-python",
   "name": "python",
   "nbconvert_exporter": "python",
   "pygments_lexer": "ipython3",
   "version": "3.9.22"
  }
 },
 "nbformat": 4,
 "nbformat_minor": 5
}
