{
 "cells": [
  {
   "cell_type": "code",
   "execution_count": null,
   "id": "ded06d6e",
   "metadata": {},
   "outputs": [],
   "source": [
    "from fishjaw.util import files\n",
    "\n",
    "in_dir = files.script_out_dir() / \"jaw_segmentations\"\n",
    "img_in_dir = in_dir / \"imgs\"\n",
    "mask_in_dir = in_dir / \"masks\"\n",
    "\n",
    "img_paths = sorted(list(img_in_dir.glob(\"*.tif\")))\n",
    "mask_paths = sorted(list(mask_in_dir.glob(\"*.tif\")))"
   ]
  },
  {
   "cell_type": "code",
   "execution_count": null,
   "id": "635d1ed3",
   "metadata": {},
   "outputs": [],
   "source": [
    "%%capture\n",
    "from fishjaw.inference import read\n",
    "\n",
    "# Exclude the contrast enhanced and bad segmentations\n",
    "exclude = [\n",
    "    read.is_excluded(\n",
    "        read.fish_number(f), exclude_train_data=False, exclude_unknown_age=False\n",
    "    )\n",
    "    for f in img_paths\n",
    "]\n",
    "\n",
    "mask_paths = [m for m, e in zip(mask_paths, exclude) if not e]\n",
    "img_paths = [i for i, e in zip(img_paths, exclude) if not e]"
   ]
  },
  {
   "cell_type": "code",
   "execution_count": null,
   "id": "011faa42",
   "metadata": {},
   "outputs": [],
   "source": [
    "# Read in the masks\n",
    "import tifffile\n",
    "from tqdm.notebook import tqdm\n",
    "\n",
    "masks = [tifffile.imread(f) for f in tqdm(mask_paths)]"
   ]
  },
  {
   "cell_type": "code",
   "execution_count": null,
   "id": "e3111092",
   "metadata": {},
   "outputs": [],
   "source": [
    "# Read in the greyscale\n",
    "imgs = [tifffile.imread(f) for f in tqdm(img_paths)]"
   ]
  },
  {
   "cell_type": "code",
   "execution_count": null,
   "id": "f94eb4af",
   "metadata": {},
   "outputs": [],
   "source": [
    "# Get the metadata\n",
    "\n",
    "metadata = [read.metadata(read.fish_number(f)) for f in img_paths]"
   ]
  },
  {
   "cell_type": "code",
   "execution_count": null,
   "id": "c7a7ac41",
   "metadata": {},
   "outputs": [],
   "source": [
    "from radiomics import featureextractor\n",
    "import SimpleITK as sitk\n",
    "import pandas as pd\n",
    "import numpy as np\n",
    "\n",
    "params_file = \"radiomics_config.yaml\"\n",
    "extractor = featureextractor.RadiomicsFeatureExtractor(params_file)\n",
    "\n",
    "cases = [\n",
    "    (img_array, mask_array, m)\n",
    "    for (img_array, mask_array, m) in zip(imgs, masks, metadata)\n",
    "]\n",
    "\n",
    "features_list = []\n",
    "for img_array, mask_array, mdata in tqdm(cases):\n",
    "    # Convert numpy arrays to SimpleITK images\n",
    "    img = sitk.GetImageFromArray(img_array)\n",
    "    mask = sitk.GetImageFromArray(mask_array.astype(np.uint8))\n",
    "\n",
    "    img.SetSpacing(mdata.voxel_size)\n",
    "    mask.SetSpacing(mdata.voxel_size)\n",
    "\n",
    "    # Extract features\n",
    "    result = extractor.execute(img, mask)\n",
    "\n",
    "    # Keep only numeric features\n",
    "    result_clean = {\n",
    "        k: v for k, v in result.items() if isinstance(v, (int, float, np.ndarray))\n",
    "    }\n",
    "    result_clean[\"ID\"] = mdata.n\n",
    "\n",
    "    features_list.append(result_clean)"
   ]
  },
  {
   "cell_type": "code",
   "execution_count": null,
   "id": "371aa467",
   "metadata": {},
   "outputs": [],
   "source": [
    "features_df = pd.DataFrame(features_list).set_index(\"ID\")\n",
    "print(features_df.shape)\n",
    "features_df.head()"
   ]
  },
  {
   "cell_type": "code",
   "execution_count": null,
   "id": "ac455e89",
   "metadata": {},
   "outputs": [],
   "source": [
    "features_df.to_csv(\"features.csv\")"
   ]
  },
  {
   "cell_type": "code",
   "execution_count": null,
   "id": "06fcd37b",
   "metadata": {},
   "outputs": [],
   "source": [
    "import pandas as pd\n",
    "features_df = pd.read_csv(\"features.csv\", index_col=0)\n",
    "\n",
    "features_df.head()"
   ]
  },
  {
   "cell_type": "code",
   "execution_count": null,
   "id": "04c6fea6",
   "metadata": {},
   "outputs": [],
   "source": [
    "\"\"\"\n",
    "Add a column describing the mutation status (wt/het/hom/mosaic)\n",
    "\"\"\"\n",
    "from fishjaw.inference import feature_selection\n",
    "\n",
    "features_df = feature_selection.add_metadata_cols(features_df)\n",
    "features_df.head()"
   ]
  },
  {
   "cell_type": "code",
   "execution_count": null,
   "id": "98d00f11",
   "metadata": {},
   "outputs": [],
   "source": [
    "\"\"\"\n",
    "Remove features with zero variance\n",
    "\"\"\"\n",
    "\n",
    "null_variance_cols = features_df[\"Features\"].columns[features_df[\"Features\"].var() == 0]\n",
    "features_df.drop(columns=null_variance_cols, inplace=True, level=1)\n",
    "\n",
    "print(f\"Dropped:\\n\\t\", \", \".join(null_variance_cols))\n",
    "features_df.head()"
   ]
  },
  {
   "cell_type": "code",
   "execution_count": null,
   "id": "b40303ad",
   "metadata": {},
   "outputs": [],
   "source": [
    "\"\"\"\n",
    "Show variance of the others\n",
    "\"\"\""
   ]
  },
  {
   "cell_type": "code",
   "execution_count": null,
   "id": "bc727d66",
   "metadata": {},
   "outputs": [],
   "source": [
    "\"\"\"\n",
    "Plot correlations\n",
    "\"\"\""
   ]
  },
  {
   "cell_type": "code",
   "execution_count": null,
   "id": "994c95d5",
   "metadata": {},
   "outputs": [],
   "source": [
    "\"\"\"\n",
    "Drop highly correlated features\n",
    "\"\"\""
   ]
  },
  {
   "cell_type": "code",
   "execution_count": null,
   "id": "333a6cc3",
   "metadata": {},
   "outputs": [],
   "source": [
    "\"\"\"\n",
    "Z-normalise the remaining features\n",
    "\"\"\""
   ]
  },
  {
   "cell_type": "code",
   "execution_count": null,
   "id": "ff0c7b74",
   "metadata": {},
   "outputs": [],
   "source": [
    "import seaborn as sns\n",
    "sns.pairplot(features_df)"
   ]
  },
  {
   "cell_type": "code",
   "execution_count": null,
   "id": "c711f2ba",
   "metadata": {},
   "outputs": [],
   "source": [
    "\"\"\"\n",
    "PCA and biplot to get an idea of what good descriptors might be\n",
    "\"\"\""
   ]
  }
 ],
 "metadata": {
  "kernelspec": {
   "display_name": "fishjaw (3.9.22)",
   "language": "python",
   "name": "python3"
  },
  "language_info": {
   "codemirror_mode": {
    "name": "ipython",
    "version": 3
   },
   "file_extension": ".py",
   "mimetype": "text/x-python",
   "name": "python",
   "nbconvert_exporter": "python",
   "pygments_lexer": "ipython3",
   "version": "3.9.22"
  }
 },
 "nbformat": 4,
 "nbformat_minor": 5
}
