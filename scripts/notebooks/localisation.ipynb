{
 "cells": [
  {
   "cell_type": "code",
   "execution_count": null,
   "id": "5bb27ff8",
   "metadata": {},
   "outputs": [],
   "source": [
    "%load_ext autoreload\n",
    "%autoreload 2\n",
    "\n",
    "import sys\n",
    "\n",
    "sys.path.append(\"../../\")"
   ]
  },
  {
   "cell_type": "code",
   "execution_count": null,
   "id": "d4f5d6d2",
   "metadata": {},
   "outputs": [],
   "source": [
    "from fishjaw.util import util\n",
    "\n",
    "config = util.userconf()"
   ]
  },
  {
   "cell_type": "code",
   "execution_count": null,
   "id": "2f33319a",
   "metadata": {},
   "outputs": [],
   "source": [
    "\"\"\"Read in a small number of CT scans and the corresponding labels\"\"\"\n",
    "\n",
    "import pathlib\n",
    "\n",
    "dicom_dir = pathlib.Path(\"../../dicoms/Training set 2/\")\n",
    "dicom_paths = sorted(list(dicom_dir.glob(\"*.dcm\")))\n",
    "\n",
    "dicom_paths = dicom_paths[:2]"
   ]
  },
  {
   "cell_type": "code",
   "execution_count": null,
   "id": "77d251bb",
   "metadata": {},
   "outputs": [],
   "source": [
    "from fishjaw.images import io\n",
    "\n",
    "imgs, labels = zip(*[io.read_dicom(path) for path in dicom_paths])"
   ]
  },
  {
   "cell_type": "code",
   "execution_count": null,
   "id": "f7b7d16d",
   "metadata": {},
   "outputs": [],
   "source": [
    "from scipy.ndimage import center_of_mass\n",
    "\n",
    "centroids = [tuple(map(int, center_of_mass(label))) for label in labels]"
   ]
  },
  {
   "cell_type": "code",
   "execution_count": null,
   "id": "e2a7fa60",
   "metadata": {},
   "outputs": [],
   "source": [
    "\"\"\"Plot the centroids\"\"\"\n",
    "\n",
    "import matplotlib.pyplot as plt\n",
    "\n",
    "fig, axes = plt.subplots(1, 2, figsize=(12, 6))\n",
    "\n",
    "for img, label, centroid, axis in zip(imgs, labels, centroids, axes):\n",
    "    img_slice = img[centroid[0]]\n",
    "    label_slice = label[centroid[0]]\n",
    "\n",
    "    axis.imshow(img_slice, cmap=\"gray\", vmin=0, vmax=255**2)\n",
    "    axis.imshow(label_slice, cmap=\"afmhot_r\", alpha=0.3)\n",
    "\n",
    "    axis.scatter(centroid[2], centroid[1], color=\"red\", s=20, label=\"Centroid\")\n",
    "    axis.axis(\"off\")"
   ]
  },
  {
   "cell_type": "code",
   "execution_count": null,
   "id": "4dcc8110",
   "metadata": {},
   "outputs": [],
   "source": [
    "# Since we don't really need all the information of the high-resolution images,\n",
    "# we can downsample them to speed up processing.\n",
    "from skimage.transform import rescale\n",
    "\n",
    "scale_factor = 0.25\n",
    "\n",
    "downsampled_imgs = [\n",
    "    rescale(img, scale_factor, anti_aliasing=True, preserve_range=True) for img in imgs\n",
    "]\n",
    "downsampled_labels = [\n",
    "    rescale(label, scale_factor, anti_aliasing=False, preserve_range=True, order=0)\n",
    "    for label in labels\n",
    "]\n",
    "\n",
    "scaled_centroids = [\n",
    "    tuple(map(lambda x: int(scale_factor * x), centroid)) for centroid in centroids\n",
    "]"
   ]
  },
  {
   "cell_type": "code",
   "execution_count": null,
   "id": "5efd953e",
   "metadata": {},
   "outputs": [],
   "source": [
    "fig, axes = plt.subplots(1, 2, figsize=(12, 6))\n",
    "\n",
    "for img, label, centroid, axis in zip(\n",
    "    downsampled_imgs, downsampled_labels, scaled_centroids, axes\n",
    "):\n",
    "    img_slice = img[centroid[0]]\n",
    "    label_slice = label[centroid[0]]\n",
    "\n",
    "    axis.imshow(img_slice, cmap=\"gray\", vmin=0, vmax=255**2)\n",
    "    axis.imshow(label_slice, cmap=\"afmhot_r\", alpha=0.3)\n",
    "\n",
    "    axis.scatter(centroid[2], centroid[1], color=\"red\", s=20, label=\"Centroid\")\n",
    "    axis.axis(\"off\")"
   ]
  },
  {
   "cell_type": "code",
   "execution_count": null,
   "id": "a223c7b8",
   "metadata": {},
   "outputs": [],
   "source": [
    "# Define a model arch\n",
    "\n",
    "# Training loop\n",
    "\n",
    "# Train the model\n",
    "\n",
    "# Test the model - perform some cropping\n",
    "\n",
    "# Plot slices of the cropped jaw"
   ]
  }
 ],
 "metadata": {
  "kernelspec": {
   "display_name": "zebrafish_jaw_segmentation",
   "language": "python",
   "name": "python3"
  },
  "language_info": {
   "codemirror_mode": {
    "name": "ipython",
    "version": 3
   },
   "file_extension": ".py",
   "mimetype": "text/x-python",
   "name": "python",
   "nbconvert_exporter": "python",
   "pygments_lexer": "ipython3",
   "version": "3.11.10"
  }
 },
 "nbformat": 4,
 "nbformat_minor": 5
}
