{
 "cells": [
  {
   "cell_type": "code",
   "execution_count": null,
   "id": "67568190",
   "metadata": {},
   "outputs": [],
   "source": [
    "# Read in some data from the RDSF\n",
    "import pathlib\n",
    "\n",
    "device = \"cuda\"\n",
    "my_ct_path = pathlib.Path(\n",
    "    \"~/zebrafish_rdsf/DATABASE/uCT/Wahab_clean_dataset/TIFS/ak_102.tif\"\n",
    ").expanduser()\n",
    "\n",
    "assert my_ct_path.exists()"
   ]
  },
  {
   "cell_type": "code",
   "execution_count": null,
   "id": "aa8121ef",
   "metadata": {},
   "outputs": [],
   "source": [
    "import tifffile\n",
    "\n",
    "scan = tifffile.imread(my_ct_path)"
   ]
  },
  {
   "cell_type": "code",
   "execution_count": null,
   "id": "e4f08d21",
   "metadata": {},
   "outputs": [],
   "source": [
    "from fishjaw.visualisation.images_3d import plot_slices\n",
    "\n",
    "plot_slices(scan)"
   ]
  },
  {
   "cell_type": "code",
   "execution_count": null,
   "id": "2713e17b",
   "metadata": {},
   "outputs": [],
   "source": [
    "# Crop out the jaw\n",
    "import torch\n",
    "from fishjaw.localisation.model import get_model, crop\n",
    "\n",
    "model = get_model(device)\n",
    "with open(\n",
    "    \"../../script_output/jaw_location/test68_with_shrinkage/test68_with_shrinkage.pth\",\n",
    "    \"rb\",\n",
    ") as f:\n",
    "    weights = torch.load(f)\n",
    "\n",
    "model.load_state_dict(weights)\n",
    "_ = model.eval()"
   ]
  },
  {
   "cell_type": "code",
   "execution_count": null,
   "id": "3ab06789",
   "metadata": {},
   "outputs": [],
   "source": [
    "cropped = crop(model, scan, model_input_size=(512, 128, 128), window_size=(192, 192, 192))"
   ]
  },
  {
   "cell_type": "code",
   "execution_count": null,
   "id": "fda8f0ed",
   "metadata": {},
   "outputs": [],
   "source": [
    "plot_slices(cropped)"
   ]
  },
  {
   "cell_type": "code",
   "execution_count": null,
   "id": "ca2f991e",
   "metadata": {},
   "outputs": [],
   "source": [
    "# Segment out the jaw"
   ]
  },
  {
   "cell_type": "code",
   "execution_count": null,
   "id": "0d98c1d8",
   "metadata": {},
   "outputs": [],
   "source": [
    "# Show a mesh of the jaw"
   ]
  },
  {
   "cell_type": "code",
   "execution_count": null,
   "id": "6cd16c5e",
   "metadata": {},
   "outputs": [],
   "source": [
    "# Show the greyscale values of the jaw pixels"
   ]
  },
  {
   "cell_type": "code",
   "execution_count": null,
   "id": "c81ce3f6",
   "metadata": {},
   "outputs": [],
   "source": [
    "# Show a histogram of the greyscale values in the jaw"
   ]
  }
 ],
 "metadata": {
  "kernelspec": {
   "display_name": "fishjaw (3.11.10)",
   "language": "python",
   "name": "python3"
  },
  "language_info": {
   "codemirror_mode": {
    "name": "ipython",
    "version": 3
   },
   "file_extension": ".py",
   "mimetype": "text/x-python",
   "name": "python",
   "nbconvert_exporter": "python",
   "pygments_lexer": "ipython3",
   "version": "3.11.10"
  }
 },
 "nbformat": 4,
 "nbformat_minor": 5
}
