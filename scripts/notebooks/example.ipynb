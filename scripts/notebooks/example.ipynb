{
 "cells": [
  {
   "cell_type": "code",
   "execution_count": 1,
   "id": "67568190",
   "metadata": {},
   "outputs": [],
   "source": [
    "# Read in some data from the RDSF"
   ]
  },
  {
   "cell_type": "code",
   "execution_count": null,
   "id": "2713e17b",
   "metadata": {},
   "outputs": [],
   "source": [
    "# Crop out the jaw"
   ]
  },
  {
   "cell_type": "code",
   "execution_count": 3,
   "id": "ca2f991e",
   "metadata": {},
   "outputs": [],
   "source": [
    "# Segment out the jaw"
   ]
  },
  {
   "cell_type": "code",
   "execution_count": 4,
   "id": "0d98c1d8",
   "metadata": {},
   "outputs": [],
   "source": [
    "# Show a mesh of the jaw"
   ]
  },
  {
   "cell_type": "code",
   "execution_count": 5,
   "id": "6cd16c5e",
   "metadata": {},
   "outputs": [],
   "source": [
    "# Show the greyscale values of the jaw pixels"
   ]
  },
  {
   "cell_type": "code",
   "execution_count": null,
   "id": "c81ce3f6",
   "metadata": {},
   "outputs": [],
   "source": [
    "# Show a histogram of the greyscale values in the jaw"
   ]
  }
 ],
 "metadata": {
  "kernelspec": {
   "display_name": "fishjaw (3.11.10)",
   "language": "python",
   "name": "python3"
  },
  "language_info": {
   "codemirror_mode": {
    "name": "ipython",
    "version": 3
   },
   "file_extension": ".py",
   "mimetype": "text/x-python",
   "name": "python",
   "nbconvert_exporter": "python",
   "pygments_lexer": "ipython3",
   "version": "3.11.10"
  }
 },
 "nbformat": 4,
 "nbformat_minor": 5
}
