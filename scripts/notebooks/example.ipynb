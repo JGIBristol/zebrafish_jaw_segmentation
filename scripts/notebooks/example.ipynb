{
 "cells": [
  {
   "cell_type": "code",
   "execution_count": null,
   "id": "67568190",
   "metadata": {},
   "outputs": [],
   "source": [
    "# Read in some data from the RDSF\n",
    "import pathlib\n",
    "\n",
    "device = \"cuda\"\n",
    "my_ct_path = pathlib.Path(\n",
    "    \"~/zebrafish_rdsf/DATABASE/uCT/Wahab_clean_dataset/TIFS/ak_102.tif\"\n",
    ").expanduser()\n",
    "\n",
    "assert my_ct_path.exists()"
   ]
  },
  {
   "cell_type": "code",
   "execution_count": null,
   "id": "aa8121ef",
   "metadata": {},
   "outputs": [],
   "source": [
    "import tifffile\n",
    "\n",
    "scan = tifffile.imread(my_ct_path)"
   ]
  },
  {
   "cell_type": "code",
   "execution_count": null,
   "id": "e4f08d21",
   "metadata": {},
   "outputs": [],
   "source": [
    "from fishjaw.visualisation.images_3d import plot_slices\n",
    "\n",
    "plot_slices(scan)"
   ]
  },
  {
   "cell_type": "code",
   "execution_count": null,
   "id": "2713e17b",
   "metadata": {},
   "outputs": [],
   "source": [
    "# Crop out the jaw\n",
    "import torch\n",
    "from fishjaw.localisation.model import get_model, crop\n",
    "\n",
    "model = get_model(device)\n",
    "with open(\n",
    "    \"../../script_output/jaw_location/test68_with_shrinkage/test68_with_shrinkage.pth\",\n",
    "    \"rb\",\n",
    ") as f:\n",
    "    weights = torch.load(f)\n",
    "\n",
    "model.load_state_dict(weights)\n",
    "_ = model.eval()"
   ]
  },
  {
   "cell_type": "code",
   "execution_count": null,
   "id": "3ab06789",
   "metadata": {},
   "outputs": [],
   "source": [
    "cropped = crop(model, scan, model_input_size=(512, 128, 128), window_size=(192, 192, 192))"
   ]
  },
  {
   "cell_type": "code",
   "execution_count": null,
   "id": "fda8f0ed",
   "metadata": {},
   "outputs": [],
   "source": [
    "plot_slices(cropped)"
   ]
  },
  {
   "cell_type": "code",
   "execution_count": null,
   "id": "ca2f991e",
   "metadata": {},
   "outputs": [],
   "source": [
    "# Segment out the jaw\n",
    "import torchio as tio\n",
    "\n",
    "from fishjaw.model.model import load_model, predict\n",
    "from fishjaw.model import data\n",
    "\n",
    "# This was the median one when we trained lots of them, I think\n",
    "inference_model = load_model(\"attempt_n3.pkl\").load_model(set_eval=True)\n",
    "\n",
    "# this should be abstracted\n",
    "# It should also probably threshold, and take the largest connected component\n",
    "# and live in the fishjaw.inference library\n",
    "scaled = data.ints2float(cropped)\n",
    "tensor = torch.as_tensor(scaled, dtype=torch.float32).unsqueeze(0)\n",
    "subject = tio.Subject(image=tio.Image(tensor=tensor, type=tio.INTENSITY))\n",
    "prediction = predict(\n",
    "    inference_model,\n",
    "    subject,\n",
    "    patch_size=(160, 160, 160),\n",
    "    patch_overlap=(4, 4, 4),\n",
    "    activation=\"sigmoid\",\n",
    ") > 0.5"
   ]
  },
  {
   "cell_type": "code",
   "execution_count": null,
   "id": "3d23ba08",
   "metadata": {},
   "outputs": [],
   "source": [
    "_ = plot_slices(cropped, prediction)"
   ]
  },
  {
   "cell_type": "code",
   "execution_count": null,
   "id": "0d98c1d8",
   "metadata": {},
   "outputs": [],
   "source": [
    "# Show a mesh of the jaw"
   ]
  },
  {
   "cell_type": "code",
   "execution_count": null,
   "id": "6cd16c5e",
   "metadata": {},
   "outputs": [],
   "source": [
    "# Show the greyscale values of the jaw pixels"
   ]
  },
  {
   "cell_type": "code",
   "execution_count": null,
   "id": "c81ce3f6",
   "metadata": {},
   "outputs": [],
   "source": [
    "# Show a histogram of the greyscale values in the jaw"
   ]
  }
 ],
 "metadata": {
  "kernelspec": {
   "display_name": "fishjaw (3.11.10)",
   "language": "python",
   "name": "python3"
  },
  "language_info": {
   "codemirror_mode": {
    "name": "ipython",
    "version": 3
   },
   "file_extension": ".py",
   "mimetype": "text/x-python",
   "name": "python",
   "nbconvert_exporter": "python",
   "pygments_lexer": "ipython3",
   "version": "3.11.10"
  }
 },
 "nbformat": 4,
 "nbformat_minor": 5
}
